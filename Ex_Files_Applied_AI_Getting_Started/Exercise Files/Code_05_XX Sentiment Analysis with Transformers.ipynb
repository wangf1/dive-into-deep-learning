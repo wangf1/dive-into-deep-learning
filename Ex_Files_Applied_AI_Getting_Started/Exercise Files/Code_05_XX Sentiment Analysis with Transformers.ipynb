{
 "cells": [
  {
   "cell_type": "code",
   "execution_count": 3,
   "id": "f34d8b0d",
   "metadata": {},
   "outputs": [],
   "source": [
    "#The main package that contains functions to use Hugging Face\n",
    "import transformers\n",
    "\n",
    "#Set to avoid warning messages.\n",
    "transformers.logging.set_verbosity_error()"
   ]
  },
  {
   "cell_type": "markdown",
   "id": "73ca837c",
   "metadata": {},
   "source": [
    "## 05.02. Reviewing the Pipeline\n",
    "\n",
    "Use the pipeline registry to look at available pipeline tasks and also explore a specific pipeline"
   ]
  },
  {
   "cell_type": "code",
   "execution_count": 5,
   "id": "4c0cfee0",
   "metadata": {},
   "outputs": [
    {
     "name": "stdout",
     "output_type": "stream",
     "text": [
      "['audio-classification', 'automatic-speech-recognition', 'depth-estimation', 'document-question-answering', 'feature-extraction', 'fill-mask', 'image-classification', 'image-feature-extraction', 'image-segmentation', 'image-to-image', 'image-to-text', 'mask-generation', 'ner', 'object-detection', 'question-answering', 'sentiment-analysis', 'summarization', 'table-question-answering', 'text-classification', 'text-generation', 'text-to-audio', 'text-to-speech', 'text2text-generation', 'token-classification', 'translation', 'video-classification', 'visual-question-answering', 'vqa', 'zero-shot-audio-classification', 'zero-shot-classification', 'zero-shot-image-classification', 'zero-shot-object-detection']\n"
     ]
    }
   ],
   "source": [
    "from transformers.pipelines import PIPELINE_REGISTRY\n",
    "\n",
    "#Get the list of tasks that are supported by Huggingface pipeline\n",
    "print(PIPELINE_REGISTRY.get_supported_tasks())\n"
   ]
  },
  {
   "cell_type": "code",
   "execution_count": 6,
   "id": "47ede308",
   "metadata": {},
   "outputs": [
    {
     "name": "stdout",
     "output_type": "stream",
     "text": [
      "\n",
      "Default Model for Sentiment Analysis: \n",
      "{'model': {'pt': ('distilbert/distilbert-base-uncased-finetuned-sst-2-english', 'af0f99b'), 'tf': ('distilbert/distilbert-base-uncased-finetuned-sst-2-english', 'af0f99b')}}\n"
     ]
    }
   ],
   "source": [
    "#Get information about a specific task\n",
    "print(\"\\nDefault Model for Sentiment Analysis: \")\n",
    "print(PIPELINE_REGISTRY.check_task('sentiment-analysis')[1].get('default'))"
   ]
  },
  {
   "cell_type": "markdown",
   "id": "58bb2f76",
   "metadata": {},
   "source": [
    "## 05.03 Loading a Pipeline"
   ]
  },
  {
   "cell_type": "code",
   "execution_count": 8,
   "id": "4f892fe0",
   "metadata": {},
   "outputs": [
    {
     "name": "stdout",
     "output_type": "stream",
     "text": [
      "WARNING:tensorflow:From c:\\Users\\markw\\miniconda3\\envs\\PyTorch\\Lib\\site-packages\\tf_keras\\src\\losses.py:2976: The name tf.losses.sparse_softmax_cross_entropy is deprecated. Please use tf.compat.v1.losses.sparse_softmax_cross_entropy instead.\n",
      "\n"
     ]
    },
    {
     "name": "stderr",
     "output_type": "stream",
     "text": [
      "c:\\Users\\markw\\miniconda3\\envs\\PyTorch\\Lib\\site-packages\\transformers\\tokenization_utils_base.py:1601: FutureWarning: `clean_up_tokenization_spaces` was not set. It will be set to `True` by default. This behavior will be depracted in transformers v4.45, and will be then set to `False` by default. For more details check this issue: https://github.com/huggingface/transformers/issues/31884\n",
      "  warnings.warn(\n"
     ]
    },
    {
     "name": "stdout",
     "output_type": "stream",
     "text": [
      "Huggingface Cache directory is :  C:\\Users\\markw/.cache/huggingface/hub\n"
     ]
    },
    {
     "data": {
      "text/plain": [
       "['.locks',\n",
       " 'models--distilbert--distilbert-base-uncased-finetuned-sst-2-english',\n",
       " 'version.txt']"
      ]
     },
     "execution_count": 8,
     "metadata": {},
     "output_type": "execute_result"
    }
   ],
   "source": [
    "from transformers import pipeline\n",
    "import os\n",
    "\n",
    "#Load a pipeline. This will download the model checkpoint from huggingface and cache it \n",
    "#locally on disk. If model is already available in cache, it will simply use the cached version\n",
    "#Download will usually take a long time, depending on network bandwidth\n",
    "\n",
    "sentiment_classifier = pipeline(\"sentiment-analysis\")\n",
    "\n",
    "#Cache usually available at : <<user-home>>.cache\\huggingface\\hub\n",
    "\n",
    "cache_dir = os.path.expanduser('~') + \"/.cache/huggingface/hub\"\n",
    "print(\"Huggingface Cache directory is : \", cache_dir)\n",
    "\n",
    "#Contents of cache directory\n",
    "os.listdir(cache_dir)"
   ]
  },
  {
   "cell_type": "markdown",
   "id": "01f95416",
   "metadata": {},
   "source": [
    "## 05.04. Predicting Sentiment with Default Model"
   ]
  },
  {
   "cell_type": "code",
   "execution_count": 9,
   "id": "7f24b4ea",
   "metadata": {},
   "outputs": [
    {
     "name": "stdout",
     "output_type": "stream",
     "text": [
      "[{'label': 'POSITIVE', 'score': 0.9998713731765747}]\n"
     ]
    }
   ],
   "source": [
    "#Predict sentiment using the pipeline\n",
    "sentiment_results=sentiment_classifier(\"This is a great course\")\n",
    "print(sentiment_results)\n"
   ]
  },
  {
   "cell_type": "code",
   "execution_count": 10,
   "id": "104c06f7",
   "metadata": {},
   "outputs": [
    {
     "name": "stdout",
     "output_type": "stream",
     "text": [
      "[{'label': 'NEGATIVE', 'score': 0.9998070597648621}]\n"
     ]
    }
   ],
   "source": [
    "#A second example\n",
    "sentiment_results=sentiment_classifier(\"The download speed is really bad\")\n",
    "print(sentiment_results)"
   ]
  },
  {
   "cell_type": "markdown",
   "id": "8154d932",
   "metadata": {},
   "source": [
    "## 05.05. Using a custom Model"
   ]
  },
  {
   "cell_type": "code",
   "execution_count": 12,
   "id": "2e52dbb2",
   "metadata": {},
   "outputs": [
    {
     "name": "stdout",
     "output_type": "stream",
     "text": [
      "[{'label': 'POS', 'score': 0.9920700192451477}]\n"
     ]
    },
    {
     "data": {
      "text/plain": [
       "['.locks',\n",
       " 'models--distilbert--distilbert-base-uncased-finetuned-sst-2-english',\n",
       " 'models--finiteautomata--bertweet-base-sentiment-analysis',\n",
       " 'version.txt']"
      ]
     },
     "execution_count": 12,
     "metadata": {},
     "output_type": "execute_result"
    }
   ],
   "source": [
    "sentiment_classifier = pipeline(task=\"sentiment-analysis\",\n",
    "                                model=\"finiteautomata/bertweet-base-sentiment-analysis\")\n",
    "\n",
    "sentiment_result=sentiment_classifier(\"This is a great course\")\n",
    "\n",
    "print(sentiment_result)\n",
    "\n",
    "#Contents of cache directory\n",
    "os.listdir(cache_dir)"
   ]
  },
  {
   "cell_type": "code",
   "execution_count": null,
   "id": "5c7ed64d",
   "metadata": {},
   "outputs": [],
   "source": []
  }
 ],
 "metadata": {
  "kernelspec": {
   "display_name": "Python 3 (ipykernel)",
   "language": "python",
   "name": "python3"
  },
  "language_info": {
   "codemirror_mode": {
    "name": "ipython",
    "version": 3
   },
   "file_extension": ".py",
   "mimetype": "text/x-python",
   "name": "python",
   "nbconvert_exporter": "python",
   "pygments_lexer": "ipython3",
   "version": "3.12.4"
  }
 },
 "nbformat": 4,
 "nbformat_minor": 5
}
